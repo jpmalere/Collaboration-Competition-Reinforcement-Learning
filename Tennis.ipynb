{
 "cells": [
  {
   "cell_type": "markdown",
   "metadata": {},
   "source": [
    "# Collaboration and Competition\n",
    "\n",
    "---\n",
    "\n",
    "In this notebook, you will learn how to use the Unity ML-Agents environment for the third project of the [Deep Reinforcement Learning Nanodegree](https://www.udacity.com/course/deep-reinforcement-learning-nanodegree--nd893) program.\n",
    "\n",
    "### 1. Start the Environment\n",
    "\n",
    "We begin by importing the necessary packages.  If the code cell below returns an error, please revisit the project instructions to double-check that you have installed all the necessary packages such as [Unity ML-Agents](https://github.com/Unity-Technologies/ml-agents/blob/master/docs/Installation.md) and [NumPy](http://www.numpy.org/)."
   ]
  },
  {
   "cell_type": "markdown",
   "metadata": {},
   "source": [
    "The environment is already saved in the Workspace and can be accessed at the file path provided below. "
   ]
  },
  {
   "cell_type": "code",
   "execution_count": 1,
   "metadata": {
    "scrolled": true
   },
   "outputs": [],
   "source": [
    "from unityagents import UnityEnvironment\n",
    "import numpy as np\n",
    "import random\n",
    "import torch\n",
    "from collections import deque\n",
    "import matplotlib.pyplot as plt\n",
    "%matplotlib inline\n",
    "\n",
    "from ddpg_agent import Agent\n",
    "from ReplayBuffer import ReplayBuffer\n"
   ]
  },
  {
   "cell_type": "markdown",
   "metadata": {},
   "source": [
    "Next, we will start the environment! Before running the code cell below, change the file_name parameter to match the location of the Unity environment that you downloaded.\n",
    "\n",
    "- Mac: \"path/to/Tennis.app\"\n",
    "- Windows (x86): \"path/to/Tennis_Windows_x86/Tennis.exe\"\n",
    "- Windows (x86_64): \"path/to/Tennis_Windows_x86_64/Tennis.exe\"\n",
    "- Linux (x86): \"path/to/Tennis_Linux/Tennis.x86\"\n",
    "- Linux (x86_64): \"path/to/Tennis_Linux/Tennis.x86_64\"\n",
    "- Linux (x86, headless): \"path/to/Tennis_Linux_NoVis/Tennis.x86\"\n",
    "- Linux (x86_64, headless): \"path/to/Tennis_Linux_NoVis/Tennis.x86_64\"\n",
    "\n",
    "For instance, if you are using a Mac, then you downloaded Tennis.app. If this file is in the same folder as the notebook, then the line below should appear as follows:\n",
    "\n",
    "env = UnityEnvironment(file_name=\"Tennis.app\")"
   ]
  },
  {
   "cell_type": "code",
   "execution_count": 2,
   "metadata": {},
   "outputs": [
    {
     "name": "stderr",
     "output_type": "stream",
     "text": [
      "INFO:unityagents:\n",
      "'Academy' started successfully!\n",
      "Unity Academy name: Academy\n",
      "        Number of Brains: 1\n",
      "        Number of External Brains : 1\n",
      "        Lesson number : 0\n",
      "        Reset Parameters :\n",
      "\t\t\n",
      "Unity brain name: TennisBrain\n",
      "        Number of Visual Observations (per agent): 0\n",
      "        Vector Observation space type: continuous\n",
      "        Vector Observation space size (per agent): 8\n",
      "        Number of stacked Vector Observation: 3\n",
      "        Vector Action space type: continuous\n",
      "        Vector Action space size (per agent): 2\n",
      "        Vector Action descriptions: , \n"
     ]
    }
   ],
   "source": [
    "# insert path.\n",
    "env = UnityEnvironment(file_name=\"Tennis.exe\")"
   ]
  },
  {
   "cell_type": "markdown",
   "metadata": {},
   "source": [
    "#### Global Shared Buffer Variables"
   ]
  },
  {
   "cell_type": "code",
   "execution_count": 3,
   "metadata": {},
   "outputs": [],
   "source": [
    "BUFFER_SIZE = int(1e5)  # replay buffer size\n",
    "BATCH_SIZE = 250        # minibatch size"
   ]
  },
  {
   "cell_type": "markdown",
   "metadata": {},
   "source": [
    "Environments contain **_brains_** which are responsible for deciding the actions of their associated agents. Here we check for the first brain available, and set it as the default brain we will be controlling from Python."
   ]
  },
  {
   "cell_type": "code",
   "execution_count": 4,
   "metadata": {
    "scrolled": true
   },
   "outputs": [],
   "source": [
    "# get the default brain\n",
    "brain_name = env.brain_names[0]\n",
    "brain = env.brains[brain_name]"
   ]
  },
  {
   "cell_type": "markdown",
   "metadata": {},
   "source": [
    "### 2. Examine the State and Action Spaces\n",
    "\n",
    "In this environment, two agents play tennis. A reward of `+0.1` is provided for each step that the agent's hand is in the goal location. Thus, the goal of your agent is to maintain its position at the target location for as many time steps as possible.\n",
    "\n",
    "The observation space consists of three sets of 8 variables corresponding to the position and velocity of the ball and racket. Two continuous actions are available, corresponding to movement toward (or away from) the net, and jumping.\n",
    "\n",
    "Run the code cell below to print some information about the environment."
   ]
  },
  {
   "cell_type": "code",
   "execution_count": 5,
   "metadata": {
    "scrolled": true
   },
   "outputs": [
    {
     "name": "stdout",
     "output_type": "stream",
     "text": [
      "Number of agents: 2\n",
      "Size of each action: 2\n",
      "There are 2 agents. Each observes a state with length: 24\n",
      "The state for the first agent looks like: [ 0.          0.          0.          0.          0.          0.\n",
      "  0.          0.          0.          0.          0.          0.\n",
      "  0.          0.          0.          0.         -6.65278625 -1.5\n",
      " -0.          0.          6.83172083  6.         -0.          0.        ]\n"
     ]
    }
   ],
   "source": [
    "# reset the environment\n",
    "env_info = env.reset(train_mode=True)[brain_name]\n",
    "\n",
    "# number of agents \n",
    "num_agents = len(env_info.agents)\n",
    "print('Number of agents:', num_agents)\n",
    "\n",
    "# size of each action\n",
    "action_size = brain.vector_action_space_size\n",
    "print('Size of each action:', action_size)\n",
    "\n",
    "# examine the state space \n",
    "states = env_info.vector_observations\n",
    "state_size = states.shape[1]\n",
    "print('There are {} agents. Each observes a state with length: {}'.format(states.shape[0], state_size))\n",
    "print('The state for the first agent looks like:', states[0])"
   ]
  },
  {
   "cell_type": "markdown",
   "metadata": {},
   "source": [
    "### 3. Take Random Actions in the Environment\n",
    "\n",
    "Here the multi-agent is trained on Tennis environment. 5000 episodes are considered and if the mean maximum score is equal or greater than 0.5 the training is stopped."
   ]
  },
  {
   "cell_type": "code",
   "execution_count": 6,
   "metadata": {
    "scrolled": true
   },
   "outputs": [
    {
     "name": "stderr",
     "output_type": "stream",
     "text": [
      "c:\\python36\\lib\\site-packages\\torch\\nn\\functional.py:1320: UserWarning: nn.functional.tanh is deprecated. Use torch.tanh instead.\n",
      "  warnings.warn(\"nn.functional.tanh is deprecated. Use torch.tanh instead.\")\n"
     ]
    },
    {
     "name": "stdout",
     "output_type": "stream",
     "text": [
      "Episode 100\tAverage Score: 0.0118\tScore: 0.0000\n",
      "Episode 200\tAverage Score: 0.0010\tScore: 0.0000\n",
      "Episode 300\tAverage Score: 0.0049\tScore: 0.0000\n",
      "Episode 400\tAverage Score: 0.0148\tScore: 0.0000\n",
      "Episode 500\tAverage Score: 0.0118\tScore: 0.0000\n",
      "Episode 600\tAverage Score: 0.0297\tScore: 0.0000\n",
      "Episode 700\tAverage Score: 0.0119\tScore: 0.0000\n",
      "Episode 800\tAverage Score: 0.0644\tScore: 0.1000\n",
      "Episode 900\tAverage Score: 0.1199\tScore: 0.1000\n",
      "Episode 1000\tAverage Score: 0.1284\tScore: 0.1000\n",
      "Episode 1100\tAverage Score: 0.2290\tScore: 0.2000\n",
      "Episode 1200\tAverage Score: 0.3743\tScore: 0.8000\n",
      "Episode 1300\tAverage Score: 0.3574\tScore: 0.4000\n",
      "Episode 1400\tAverage Score: 0.3251\tScore: 0.3000\n",
      "Episode 1500\tAverage Score: 0.2499\tScore: 0.1000\n",
      "Episode 1600\tAverage Score: 0.3506\tScore: 0.7900\n",
      "Episode 1700\tAverage Score: 0.2965\tScore: 0.7000\n",
      "Episode 1800\tAverage Score: 0.5067\tScore: 0.0000"
     ]
    }
   ],
   "source": [
    "sharedBuffer = ReplayBuffer(action_size, BUFFER_SIZE, BATCH_SIZE, 0)\n",
    "agent1 = Agent(state_size=state_size, action_size=action_size, num_agents=num_agents, random_seed=0)\n",
    "agent2 = Agent(state_size=state_size, action_size=action_size, num_agents=num_agents, random_seed=0)\n",
    "\n",
    "def ddpg(n_episodes=5000):\n",
    "    global sharedBuffer\n",
    "    scores_deque = deque(maxlen=100)\n",
    "    scores = []\n",
    "    max_score = -np.Inf\n",
    "    for i_episode in range(1, n_episodes+1):\n",
    "        env_info = env.reset(train_mode=True)[brain_name]\n",
    "        states = env_info.vector_observations \n",
    "        agent1.reset()\n",
    "        agent2.reset()\n",
    "        score = np.zeros(num_agents)\n",
    "        while True:\n",
    "            action1 = agent1.act(states[0])\n",
    "            action2 = agent2.act(states[1])\n",
    "            actions = [action1, action2]\n",
    "            env_info = env.step(actions)[brain_name]\n",
    "            next_states = env_info.vector_observations\n",
    "            rewards = env_info.rewards\n",
    "            dones = env_info.local_done\n",
    "            sharedBuffer.add(states, actions, rewards, next_states, dones)\n",
    "            agent1.step(sharedBuffer, BATCH_SIZE)\n",
    "            agent2.step(sharedBuffer, BATCH_SIZE)\n",
    "            states = next_states\n",
    "            score += env_info.rewards                         # update the score (for each agent)\n",
    "            if np.any(dones):\n",
    "                break\n",
    "        scores.append(np.max(score))\n",
    "        scores_deque.append(np.max(score))\n",
    "        print('\\rEpisode {}\\tAverage Score: {:.4f}\\tScore: {:.4f}'.format(i_episode, np.mean(scores_deque), np.max(score)), end=\"\")\n",
    "        if i_episode % 100 == 0:\n",
    "            # save agents\n",
    "            torch.save(agent1.actor_local.state_dict(), 'checkpoint_actor1.pth')\n",
    "            torch.save(agent1.critic_local.state_dict(), 'checkpoint_critic1.pth')\n",
    "            torch.save(agent2.actor_local.state_dict(), 'checkpoint_actor2.pth')\n",
    "            torch.save(agent2.critic_local.state_dict(), 'checkpoint_critic2.pth')\n",
    "            if np.mean(np.mean(scores_deque))>=0.5:\n",
    "                break\n",
    "            print('\\rEpisode {}\\tAverage Score: {:.4f}'.format(i_episode, np.mean(scores_deque)))   \n",
    "    return scores\n",
    "\n",
    "scores = ddpg()"
   ]
  },
  {
   "cell_type": "code",
   "execution_count": 7,
   "metadata": {},
   "outputs": [
    {
     "data": {
      "image/png": "[encoded data removed]",
      "text/plain": [
       "<Figure size 432x288 with 1 Axes>"
      ]
     },
     "metadata": {
      "needs_background": "light"
     },
     "output_type": "display_data"
    }
   ],
   "source": [
    "# plot scores\n",
    "fig = plt.figure()\n",
    "ax = fig.add_subplot(111)\n",
    "plt.plot(np.arange(1, len(scores)+1), scores)\n",
    "plt.ylabel('Score')\n",
    "plt.xlabel('Episode #')\n",
    "plt.show()"
   ]
  },
  {
   "cell_type": "markdown",
   "metadata": {
    "scrolled": true
   },
   "source": [
    "### 4. Smart Agent performance"
   ]
  },
  {
   "cell_type": "code",
   "execution_count": 9,
   "metadata": {},
   "outputs": [
    {
     "name": "stdout",
     "output_type": "stream",
     "text": [
      "Total score (averaged over agents) this episode: 1.600000023841858\n"
     ]
    }
   ],
   "source": [
    "# load the weights from file\n",
    "agent1.actor_local.load_state_dict(torch.load('checkpoint_actor1.pth'))\n",
    "agent1.critic_local.load_state_dict(torch.load('checkpoint_critic1.pth'))\n",
    "agent2.actor_local.load_state_dict(torch.load('checkpoint_actor2.pth'))\n",
    "agent2.critic_local.load_state_dict(torch.load('checkpoint_critic2.pth'))\n",
    "\n",
    "env_info = env.reset(train_mode=False)[brain_name]\n",
    "states = env_info.vector_observations \n",
    "score = np.zeros(num_agents)\n",
    "while True:\n",
    "    action1 = agent1.act(states[0])\n",
    "    action2 = agent2.act(states[1])\n",
    "    actions = [action1, action2]\n",
    "    env_info = env.step(actions)[brain_name]\n",
    "    next_states = env_info.vector_observations\n",
    "    rewards = env_info.rewards\n",
    "    dones = env_info.local_done\n",
    "    states = next_states\n",
    "    score += env_info.rewards                         # update the score (for each agent)\n",
    "    if np.any(dones):\n",
    "        break\n",
    "        \n",
    "print('Total score (averaged over agents) this episode: {}'.format(np.max(score)))\n"
   ]
  },
  {
   "cell_type": "code",
   "execution_count": 7,
   "metadata": {},
   "outputs": [],
   "source": [
    "env.close()"
   ]
  }
 ],
 "metadata": {
  "kernelspec": {
   "display_name": "Python 3",
   "language": "python",
   "name": "python3"
  },
  "language_info": {
   "codemirror_mode": {
    "name": "ipython",
    "version": 3
   },
   "file_extension": ".py",
   "mimetype": "text/x-python",
   "name": "python",
   "nbconvert_exporter": "python",
   "pygments_lexer": "ipython3",
   "version": "3.6.1"
  }
 },
 "nbformat": 4,
 "nbformat_minor": 2
}
